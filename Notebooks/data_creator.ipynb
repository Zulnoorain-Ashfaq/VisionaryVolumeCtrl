{
 "cells": [
  {
   "cell_type": "code",
   "execution_count": 4,
   "outputs": [],
   "source": [
    "import cv2\n",
    "import os\n",
    "import matplotlib.pyplot as plt"
   ],
   "metadata": {
    "collapsed": false,
    "pycharm": {
     "name": "#%%\n"
    }
   }
  },
  {
   "cell_type": "code",
   "execution_count": 36,
   "outputs": [],
   "source": [
    "camera = cv2.VideoCapture(0)"
   ],
   "metadata": {
    "collapsed": false,
    "pycharm": {
     "name": "#%%\n"
    }
   }
  },
  {
   "cell_type": "code",
   "execution_count": 55,
   "outputs": [
    {
     "name": "stdout",
     "output_type": "stream",
     "text": [
      "image118.jpg\n",
      "image119.jpg\n",
      "image120.jpg\n",
      "image121.jpg\n",
      "image122.jpg\n",
      "image123.jpg\n",
      "image124.jpg\n",
      "image125.jpg\n",
      "image126.jpg\n",
      "image127.jpg\n",
      "image128.jpg\n",
      "image129.jpg\n",
      "image130.jpg\n",
      "image131.jpg\n",
      "image132.jpg\n",
      "image133.jpg\n",
      "image134.jpg\n",
      "image135.jpg\n",
      "image136.jpg\n",
      "image137.jpg\n",
      "image138.jpg\n",
      "image139.jpg\n",
      "image140.jpg\n",
      "image141.jpg\n",
      "image142.jpg\n",
      "image143.jpg\n",
      "image144.jpg\n",
      "image145.jpg\n",
      "image146.jpg\n",
      "image147.jpg\n",
      "image148.jpg\n",
      "image149.jpg\n",
      "image150.jpg\n",
      "image151.jpg\n",
      "image152.jpg\n",
      "image153.jpg\n",
      "image154.jpg\n",
      "image155.jpg\n",
      "image156.jpg\n",
      "image157.jpg\n",
      "image158.jpg\n",
      "image159.jpg\n",
      "image160.jpg\n",
      "image161.jpg\n"
     ]
    }
   ],
   "source": [
    "folder_path = '../data/calsses/active'\n",
    "n = len(os.listdir(folder_path))\n",
    "while True:\n",
    "    _, image = camera.read()\n",
    "    # Create a face detector object\n",
    "    face_detector = cv2.CascadeClassifier(cv2.data.haarcascades + \"haarcascade_frontalface_alt2.xml\")\n",
    "\n",
    "    # Convert the image to grayscale\n",
    "    gray = cv2.cvtColor(image, cv2.COLOR_BGR2GRAY)\n",
    "\n",
    "    # Detect faces in the image\n",
    "    faces = face_detector.detectMultiScale(gray, scaleFactor=1.1, minNeighbors=5, minSize=(30, 30))\n",
    "    # Draw rectangles around the faces\n",
    "    for (x, y, w, h) in faces:\n",
    "        face = image[y:y+h, x:x+w]\n",
    "        face = cv2.cvtColor(face,cv2.COLOR_RGB2GRAY)\n",
    "        face = cv2.resize(face,(256,256))\n",
    "        # Display the image with the detected faces\n",
    "        cv2.imshow(\"Faces Detected\", face)\n",
    "        key = cv2.waitKey(1)\n",
    "        if key == ord('s'):\n",
    "            print(f'image{n}.jpg')\n",
    "            cv2.imwrite(f'{folder_path}\\image{n}.jpg',face)\n",
    "            n += 1\n",
    "    if key == ord('q'):\n",
    "        break\n",
    "cv2.destroyAllWindows()"
   ],
   "metadata": {
    "collapsed": false,
    "pycharm": {
     "name": "#%%\n"
    }
   }
  },
  {
   "cell_type": "code",
   "execution_count": 56,
   "outputs": [],
   "source": [
    "camera.release()"
   ],
   "metadata": {
    "collapsed": false,
    "pycharm": {
     "name": "#%%\n"
    }
   }
  },
  {
   "cell_type": "code",
   "execution_count": null,
   "outputs": [],
   "source": [],
   "metadata": {
    "collapsed": false,
    "pycharm": {
     "name": "#%%\n"
    }
   }
  }
 ],
 "metadata": {
  "kernelspec": {
   "display_name": "Python 3",
   "language": "python",
   "name": "python3"
  },
  "language_info": {
   "codemirror_mode": {
    "name": "ipython",
    "version": 2
   },
   "file_extension": ".py",
   "mimetype": "text/x-python",
   "name": "python",
   "nbconvert_exporter": "python",
   "pygments_lexer": "ipython2",
   "version": "2.7.6"
  }
 },
 "nbformat": 4,
 "nbformat_minor": 0
}